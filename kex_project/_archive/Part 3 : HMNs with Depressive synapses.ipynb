{
 "cells": [
  {
   "attachments": {},
   "cell_type": "markdown",
   "metadata": {},
   "source": [
    "# Part 3 : HMNs with Depressive synapses\n",
    "\n",
    "### Overview\n",
    "This Notebook continues where Part 2 left. We work with the original paper once again, but this rebuilding the modular network.\n",
    "\n",
    "### Chapters"
   ]
  },
  {
   "attachments": {},
   "cell_type": "markdown",
   "metadata": {},
   "source": [
    "### 0. Plot configuration\n"
   ]
  },
  {
   "cell_type": "code",
   "execution_count": 22,
   "metadata": {},
   "outputs": [
    {
     "name": "stdout",
     "output_type": "stream",
     "text": [
      "The autoreload extension is already loaded. To reload it, use:\n",
      "  %reload_ext autoreload\n"
     ]
    }
   ],
   "source": [
    "import matplotlib.pyplot as plt\n",
    "import matplotlib as mpl\n",
    "import scienceplots\n",
    "\n",
    "%load_ext autoreload\n",
    "%autoreload 2\n",
    "\n",
    "plt.style.use([\"science\"])\n",
    "plt.rcParams[\"figure.figsize\"] = (8, 8)"
   ]
  },
  {
   "attachments": {},
   "cell_type": "markdown",
   "metadata": {},
   "source": [
    "## 1. Building the network\n"
   ]
  },
  {
   "cell_type": "code",
   "execution_count": 23,
   "metadata": {},
   "outputs": [],
   "source": [
    "import nest\n",
    "import nest.raster_plot\n",
    "import pylab\n",
    "\n",
    "nest.ResetKernel()\n",
    "n = 4  # number of threads'\n",
    "dt = 0.1\n",
    "\n",
    "nest.SetKernelStatus(\n",
    "    {\"local_num_threads\": n, \"resolution\": dt, \"overwrite_files\": True}\n",
    ")\n",
    "\n",
    "nest.SetKernelStatus({\"print_time\": True})"
   ]
  },
  {
   "attachments": {},
   "cell_type": "markdown",
   "metadata": {},
   "source": [
    "### 1a. Model parameters"
   ]
  },
  {
   "cell_type": "code",
   "execution_count": 24,
   "metadata": {},
   "outputs": [],
   "source": [
    "N_total = 1_600 * 3\n",
    "n_submodules = 16\n",
    "\n",
    "E_perc = 4 / 5\n",
    "N_E = int(N_total * E_perc)  # Number of excitatory neurons\n",
    "N_I = int(N_total * (1 - E_perc))  # Number of excitatory neurons\n",
    "N_rec = N_E  # Number of neurons to record"
   ]
  },
  {
   "cell_type": "code",
   "execution_count": 25,
   "metadata": {},
   "outputs": [],
   "source": [
    "neuron_model = \"iaf_cond_exp\"\n",
    "\n",
    "neuron_params = {\n",
    "    \"V_m\": -60.0,\n",
    "    \"E_L\": -60.0,\n",
    "    \"V_th\": -50.0,\n",
    "    \"V_reset\": -60.0,\n",
    "    \"t_ref\": 5.0,\n",
    "    \"E_ex\": 0.0,\n",
    "    \"E_in\": -80.0,\n",
    "    \"C_m\": 100.0,\n",
    "    \"g_L\": 10.0,\n",
    "    # \"I_e\": 50.0,\n",
    "    \"tau_syn_ex\": 5.0,\n",
    "    \"tau_syn_in\": 10.0,\n",
    "}\n",
    "\n",
    "# Synapse parameters\n",
    "P_0 = 0.05  # Connection probability\n",
    "delay = 1.0\n",
    "\n",
    "J_E = 0.5\n",
    "J_I = -0.8\n",
    "\n",
    "# Stimulation\n",
    "p_rate = 10_000"
   ]
  },
  {
   "cell_type": "code",
   "execution_count": 26,
   "metadata": {},
   "outputs": [],
   "source": [
    "nest.CopyModel(\n",
    "    \"static_synapse\",\n",
    "    \"excitatory_synapse\",\n",
    "    {\n",
    "        \"weight\": J_E,\n",
    "        \"delay\": delay,\n",
    "    },\n",
    ")\n",
    "\n",
    "nest.CopyModel(\n",
    "    \"static_synapse\",\n",
    "    \"inhibitory_synapse\",\n",
    "    {\n",
    "        \"weight\": J_I,\n",
    "        \"delay\": delay,\n",
    "    },\n",
    ")"
   ]
  },
  {
   "attachments": {},
   "cell_type": "markdown",
   "metadata": {},
   "source": [
    "### 1b. Building the modular network"
   ]
  },
  {
   "attachments": {},
   "cell_type": "markdown",
   "metadata": {},
   "source": [
    "What we now want to do is to take the same number of _total_ neurons as before, but change their topology by rewiring connections. Something like the follow figure:\n",
    "\n",
    "<img src=\"./../img/neural_columns.png\" width=\"600\">\n",
    "\n",
    "The paper uses a recursive method for splitting the random network into submodules, where\n",
    "* inhibitory synapses are always rewired within the module \n",
    "* excitatory synapses are rewired within with the probability $R_{ex}$,\n",
    "\n",
    "The paper also provides a formula for computing inter-modular connection probabilities:\n",
    "\n",
    "Splitting a module into $m$ submodules of equal size at each level, the connection density between the modules of the $i$ th level is:\n",
    "\n",
    "<img src=\"https://www.frontiersin.org/files/Articles/2252/fncom-05-00030-HTML/image_n/fncom-05-00030-e006.gif\" width=\"500\">\n",
    "\n",
    "where $i = 1,…,l$, if a network is rewiring into a l-level HMN. The connection density within each unit of the network, that is, the l-level module, is\n",
    "\n",
    "<img src=\"https://www.frontiersin.org/files/Articles/2252/fncom-05-00030-HTML/image_n/fncom-05-00030-e007.gif\" width=\"500\">\n"
   ]
  },
  {
   "attachments": {},
   "cell_type": "markdown",
   "metadata": {},
   "source": [
    "**Generate base network**"
   ]
  },
  {
   "cell_type": "code",
   "execution_count": 27,
   "metadata": {},
   "outputs": [],
   "source": [
    "def configure_submodule(submodule, nodes, E_perc):\n",
    "    \"\"\"Configures and connects a submodule\"\"\"\n",
    "    submodule_len = len(submodule)\n",
    "    N_E = int(submodule_len * E_perc)\n",
    "    nodes_E = submodule[:N_E]\n",
    "    nodes_I = submodule[N_E:]\n",
    "\n",
    "    print(\n",
    "        f\"Connecting {len(nodes_E)} exc. nodes, {len(nodes_I)} inh. nodes, into {len(nodes)}\"\n",
    "    )\n",
    "\n",
    "    prob_conn_dict = {\"rule\": \"pairwise_bernoulli\", \"p\": P_0}\n",
    "\n",
    "    nest.Connect(\n",
    "        nodes_E,\n",
    "        nodes,\n",
    "        syn_spec={\"synapse_model\": \"excitatory_synapse\"},\n",
    "        conn_spec=prob_conn_dict,\n",
    "    )\n",
    "    nest.Connect(\n",
    "        nodes_I,\n",
    "        nodes,\n",
    "        syn_spec={\"synapse_model\": \"inhibitory_synapse\"},\n",
    "        conn_spec=prob_conn_dict,\n",
    "    )\n",
    "    print(\"- Configured nodes.\")\n",
    "\n",
    "\n",
    "def generate_base_network(nodes, n_modules, E_perc):\n",
    "    n_of_nodes = len(nodes)\n",
    "    len_submodule = int(n_of_nodes // n_modules)\n",
    "    print(\n",
    "        f\"Generating submodules of size {len_submodule}, total network size {n_of_nodes}\"\n",
    "    )\n",
    "\n",
    "    submodule_dict = {}\n",
    "    for submodule_idx, node_idx in enumerate(range(0, n_of_nodes, len_submodule)):\n",
    "        submodule = nodes[node_idx : node_idx + len_submodule]\n",
    "        configure_submodule(submodule=submodule, nodes=nodes, E_perc=E_perc)\n",
    "        submodule_dict[submodule_idx]= submodule\n",
    "\n",
    "    print(\"Base network configured\")\n",
    "\n",
    "    return submodule_dict"
   ]
  },
  {
   "cell_type": "code",
   "execution_count": 28,
   "metadata": {},
   "outputs": [
    {
     "name": "stdout",
     "output_type": "stream",
     "text": [
      "Generating submodules of size 300, total network size 4800\n",
      "Connecting 240 exc. nodes, 60 inh. nodes, into 4800\n",
      "- Configured nodes.\n",
      "Connecting 240 exc. nodes, 60 inh. nodes, into 4800\n",
      "- Configured nodes.\n",
      "Connecting 240 exc. nodes, 60 inh. nodes, into 4800\n",
      "- Configured nodes.\n",
      "Connecting 240 exc. nodes, 60 inh. nodes, into 4800\n",
      "- Configured nodes.\n",
      "Connecting 240 exc. nodes, 60 inh. nodes, into 4800\n",
      "- Configured nodes.\n",
      "Connecting 240 exc. nodes, 60 inh. nodes, into 4800\n",
      "- Configured nodes.\n",
      "Connecting 240 exc. nodes, 60 inh. nodes, into 4800\n",
      "- Configured nodes.\n",
      "Connecting 240 exc. nodes, 60 inh. nodes, into 4800\n",
      "- Configured nodes.\n",
      "Connecting 240 exc. nodes, 60 inh. nodes, into 4800\n",
      "- Configured nodes.\n",
      "Connecting 240 exc. nodes, 60 inh. nodes, into 4800\n",
      "- Configured nodes.\n",
      "Connecting 240 exc. nodes, 60 inh. nodes, into 4800\n",
      "- Configured nodes.\n",
      "Connecting 240 exc. nodes, 60 inh. nodes, into 4800\n",
      "- Configured nodes.\n",
      "Connecting 240 exc. nodes, 60 inh. nodes, into 4800\n",
      "- Configured nodes.\n",
      "Connecting 240 exc. nodes, 60 inh. nodes, into 4800\n",
      "- Configured nodes.\n",
      "Connecting 240 exc. nodes, 60 inh. nodes, into 4800\n",
      "- Configured nodes.\n",
      "Connecting 240 exc. nodes, 60 inh. nodes, into 4800\n",
      "- Configured nodes.\n",
      "Base network configured\n"
     ]
    }
   ],
   "source": [
    "nodes = nest.Create(neuron_model, N_total, params=neuron_params)\n",
    "submodule_dict = generate_base_network(nodes, n_submodules, E_perc=0.8)"
   ]
  },
  {
   "cell_type": "code",
   "execution_count": 29,
   "metadata": {},
   "outputs": [
    {
     "name": "stdout",
     "output_type": "stream",
     "text": [
      "-- Stopping recursion\n",
      "-- Stopping recursion\n",
      "-- Stopping recursion\n",
      "-- Stopping recursion\n",
      "-- Stopping recursion\n",
      "-- Stopping recursion\n",
      "-- Stopping recursion\n",
      "-- Stopping recursion\n",
      "-- Stopping recursion\n",
      "-- Stopping recursion\n",
      "-- Stopping recursion\n",
      "-- Stopping recursion\n",
      "-- Stopping recursion\n",
      "-- Stopping recursion\n",
      "-- Stopping recursion\n",
      "-- Stopping recursion\n"
     ]
    }
   ],
   "source": [
    "import pickle\n",
    "\n",
    "R_ex = 0.9\n",
    "R_inh = 1\n",
    "\n",
    "\n",
    "def convert_to_node_collection(nodes, nodes_ids):\n",
    "    \"\"\"The shifted_idx here is required since the stride indexing is local\"\"\"\n",
    "    node_collection = nest.NodeCollection()\n",
    "    node_collection_start_id = nodes.get(\"global_id\")[0]\n",
    "    for idx in nodes_ids:\n",
    "        shifted_idx = idx - node_collection_start_id\n",
    "        additional_node_collection = nodes[shifted_idx - 1 : shifted_idx]\n",
    "\n",
    "        node_collection += additional_node_collection\n",
    "\n",
    "    return node_collection\n",
    "\n",
    "\n",
    "def rewire_interconnecting_synapses(\n",
    "    source, target, P_rewire, synapse_model, nodes, verbose=False\n",
    "):\n",
    "    inter_connecting_synapses = nest.GetConnections(\n",
    "        source=source, target=target, synapse_model=synapse_model\n",
    "    )\n",
    "    if len(inter_connecting_synapses) == 0:\n",
    "        print(\"Rewiring 0 synapses, 0 remaining.\")\n",
    "        return\n",
    "    n_synapses_to_rewire = int(len(inter_connecting_synapses) * P_rewire)\n",
    "    synapses_to_rewire = inter_connecting_synapses[:n_synapses_to_rewire]\n",
    "    rewired_synapses_source_ids = list(\n",
    "        set(synapses_to_rewire.get(\"source\"))\n",
    "    )  # Keep unique ids\n",
    "\n",
    "    rewired_synapses_source_nodes = convert_to_node_collection(\n",
    "        nodes=nodes, nodes_ids=rewired_synapses_source_ids\n",
    "    )\n",
    "\n",
    "    if verbose:\n",
    "        print(\n",
    "            f\"Rewiring {n_synapses_to_rewire} synapses, {len(inter_connecting_synapses) - n_synapses_to_rewire} inter-connecting synapses remaining.\"\n",
    "        )\n",
    "    if n_synapses_to_rewire == 0:\n",
    "        return\n",
    "    synapses_to_rewire.disconnect()\n",
    "\n",
    "    nest.Connect(\n",
    "        pre=rewired_synapses_source_nodes,\n",
    "        post=source,\n",
    "        syn_spec={\"synapse_model\": synapse_model},\n",
    "        conn_spec={\"rule\": \"fixed_total_number\", \"N\": n_synapses_to_rewire},\n",
    "    )\n",
    "\n",
    "\n",
    "def rewire_submodules(subset_1, subset_2, R_ex, R_inh, nodes, verbose=False):\n",
    "    rewire_interconnecting_synapses(\n",
    "        subset_1, subset_2, R_ex, \"excitatory_synapse\", verbose=verbose, nodes=nodes\n",
    "    )\n",
    "    rewire_interconnecting_synapses(\n",
    "        subset_2, subset_1, R_ex, \"excitatory_synapse\", verbose=verbose, nodes=nodes\n",
    "    )\n",
    "\n",
    "    rewire_interconnecting_synapses(\n",
    "        subset_1, subset_2, R_inh, \"inhibitory_synapse\", verbose=verbose, nodes=nodes\n",
    "    )\n",
    "    rewire_interconnecting_synapses(\n",
    "        subset_2, subset_1, R_inh, \"inhibitory_synapse\", verbose=verbose, nodes=nodes\n",
    "    )\n",
    "\n",
    "\n",
    "def build_hierarchical_network(nodes, submodule_size, R_ex, R_inh, verbose):\n",
    "    len_nodes = len(nodes)\n",
    "    if verbose:\n",
    "        print(\"-- Current submodule size:\", len_nodes)\n",
    "    if len_nodes == submodule_size:\n",
    "        # Recursion stop criteria\n",
    "        print(\"-- Stopping recursion\")\n",
    "        return\n",
    "    subset_size = int(len_nodes // 2)\n",
    "    subset_1 = nodes[:subset_size]\n",
    "    subset_2 = nodes[subset_size:]\n",
    "\n",
    "    rewire_submodules(subset_1, subset_2, R_ex, R_inh, verbose=verbose, nodes=nodes)\n",
    "\n",
    "    # Call recursion\n",
    "    build_hierarchical_network(\n",
    "        nodes=subset_1,\n",
    "        submodule_size=submodule_size,\n",
    "        R_ex=R_ex,\n",
    "        R_inh=R_inh,\n",
    "        verbose=verbose,\n",
    "    )\n",
    "    build_hierarchical_network(\n",
    "        nodes=subset_2,\n",
    "        submodule_size=submodule_size,\n",
    "        R_ex=R_ex,\n",
    "        R_inh=R_inh,\n",
    "        verbose=verbose,\n",
    "    )\n",
    "\n",
    "\n",
    "def load_saved_connections(dump_filename):\n",
    "    with open(dump_filename, \"rb\") as f:\n",
    "        network = pickle.load(f)\n",
    "\n",
    "    nest.Connect(\n",
    "        network[\"e_syns\"].source.values,\n",
    "        network[\"e_syns\"].target.values,\n",
    "        \"one_to_one\",\n",
    "        {\n",
    "            \"synapse_model\": \"excitatory_synapse\",\n",
    "            \"weight\": network[\"e_syns\"].weight.values,\n",
    "        },\n",
    "    )\n",
    "\n",
    "    nest.Connect(\n",
    "        network[\"i_syns\"].source.values,\n",
    "        network[\"i_syns\"].target.values,\n",
    "        \"one_to_one\",\n",
    "        {\n",
    "            \"synapse_model\": \"inhibitory_synapse\",\n",
    "            \"weight\": network[\"i_syns\"].weight.values,\n",
    "        },\n",
    "    )\n",
    "\n",
    "\n",
    "verbose = False\n",
    "submodule_size = int(N_total / n_submodules)\n",
    "build_hierarchical_network(\n",
    "    nodes=nodes,\n",
    "    submodule_size=submodule_size,\n",
    "    R_ex=R_ex,\n",
    "    R_inh=R_inh,\n",
    "    verbose=verbose,\n",
    ")\n",
    "\n",
    "# load_saved_connections(\"testfile.pickle\")"
   ]
  },
  {
   "cell_type": "code",
   "execution_count": 30,
   "metadata": {},
   "outputs": [],
   "source": [
    "import pickle\n",
    "\n",
    "\n",
    "def save_connections(dump_filename):\n",
    "    network = {}\n",
    "\n",
    "    network[\"e_syns\"] = nest.GetConnections(synapse_model=\"excitatory_synapse\").get(\n",
    "        (\"source\", \"target\", \"weight\"), output=\"pandas\"\n",
    "    )\n",
    "    network[\"i_syns\"] = nest.GetConnections(synapse_model=\"inhibitory_synapse\").get(\n",
    "        (\"source\", \"target\", \"weight\"), output=\"pandas\"\n",
    "    )\n",
    "\n",
    "    with open(dump_filename, \"wb\") as f:\n",
    "        pickle.dump(network, f, pickle.HIGHEST_PROTOCOL)\n",
    "\n",
    "# save_connections(\"testfile.pickle\")"
   ]
  },
  {
   "attachments": {},
   "cell_type": "markdown",
   "metadata": {},
   "source": [
    "### 2. Simulate the network"
   ]
  },
  {
   "cell_type": "code",
   "execution_count": 44,
   "metadata": {},
   "outputs": [],
   "source": [
    "noise = nest.Create(\n",
    "    \"poisson_generator\",\n",
    "    1,\n",
    "    {\n",
    "        \"rate\": 300,\n",
    "        # \"start\": 0,\n",
    "        # \"stop\": 1_000,\n",
    "    },\n",
    ")\n",
    "nest.Connect(noise, nodes[:5])\n",
    "nest.Connect(noise, nodes[4 * submodule_size : 4 * submodule_size + 5])\n",
    "nest.Connect(noise, nodes[12 * submodule_size : 12 * submodule_size + 5])\n",
    "\n",
    "\n",
    "spikes = nest.Create(\"spike_recorder\", 1, [{\"label\": \"va-py-ex\"}])\n",
    "spikes_E = spikes[:1]\n",
    "nest.Connect(nodes, spikes_E)"
   ]
  },
  {
   "cell_type": "code",
   "execution_count": 45,
   "metadata": {},
   "outputs": [],
   "source": [
    "simtime = 1_000  # ms\n",
    "nest.Simulate(simtime)"
   ]
  },
  {
   "cell_type": "code",
   "execution_count": 46,
   "metadata": {},
   "outputs": [
    {
     "data": {
      "text/plain": [
       "[<matplotlib.lines.Line2D at 0x7fce2ff43a00>]"
      ]
     },
     "execution_count": 46,
     "metadata": {},
     "output_type": "execute_result"
    },
    {
     "data": {
      "image/png": "[encoded data removed]",
      "text/plain": [
       "<Figure size 800x800 with 2 Axes>"
      ]
     },
     "metadata": {},
     "output_type": "display_data"
    }
   ],
   "source": [
    "nest.raster_plot.from_device(spikes_E, hist=True)\n"
   ]
  }
 ],
 "metadata": {
  "kernelspec": {
   "display_name": ".venv",
   "language": "python",
   "name": "python3"
  },
  "language_info": {
   "codemirror_mode": {
    "name": "ipython",
    "version": 3
   },
   "file_extension": ".py",
   "mimetype": "text/x-python",
   "name": "python",
   "nbconvert_exporter": "python",
   "pygments_lexer": "ipython3",
   "version": "3.10.9"
  },
  "orig_nbformat": 4
 },
 "nbformat": 4,
 "nbformat_minor": 2
}
