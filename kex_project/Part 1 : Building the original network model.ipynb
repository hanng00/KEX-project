{
 "cells": [
  {
   "attachments": {},
   "cell_type": "markdown",
   "metadata": {},
   "source": [
    "# Part 1 : Building the original network model\n"
   ]
  },
  {
   "attachments": {},
   "cell_type": "markdown",
   "metadata": {},
   "source": [
    "#### Overview\n",
    "This Notebook implements the network in [Sustained activity in hierarchical modular neural networks: self-organized criticality and oscillation](https://www.frontiersin.org/articles/10.3389/fncom.2011.00030/full) to the original paper.\n",
    "\n",
    "\n",
    "### Chapters\n",
    "Section 1 - 2 builds the network. In section 3, the network code has been extracted out into a class and re-imported. We then test different synaptic strengths to see if we can replicate a graph from the original paper visualizing the parameter space of E/I synaptic strengths.\n"
   ]
  },
  {
   "attachments": {},
   "cell_type": "markdown",
   "metadata": {},
   "source": [
    "### 0. Plot configuration\n"
   ]
  },
  {
   "cell_type": "code",
   "execution_count": 1,
   "metadata": {},
   "outputs": [],
   "source": [
    "import matplotlib.pyplot as plt\n",
    "import matplotlib as mpl\n",
    "import scienceplots\n",
    "\n",
    "%load_ext autoreload\n",
    "%autoreload 2\n",
    "\n",
    "plt.style.use([\"science\"])\n",
    "plt.rcParams[\"figure.figsize\"] = (8, 8)"
   ]
  },
  {
   "attachments": {},
   "cell_type": "markdown",
   "metadata": {},
   "source": [
    "### 1. Building the network\n"
   ]
  },
  {
   "cell_type": "code",
   "execution_count": 2,
   "metadata": {},
   "outputs": [
    {
     "name": "stderr",
     "output_type": "stream",
     "text": [
      "<frozen importlib._bootstrap>:241: RuntimeWarning: compiletime version 3.8 of module 'pynestkernel' does not match runtime version 3.1\n",
      "<frozen importlib._bootstrap>:241: RuntimeWarning: builtins.type size changed, may indicate binary incompatibility. Expected 880 from C header, got 888 from PyObject\n"
     ]
    },
    {
     "name": "stdout",
     "output_type": "stream",
     "text": [
      "\n",
      "              -- N E S T --\n",
      "  Copyright (C) 2004 The NEST Initiative\n",
      "\n",
      " Version: 3.4\n",
      " Built: Mar  7 2023 05:58:34\n",
      "\n",
      " This program is provided AS IS and comes with\n",
      " NO WARRANTY. See the file LICENSE for details.\n",
      "\n",
      " Problems or suggestions?\n",
      "   Visit https://www.nest-simulator.org\n",
      "\n",
      " Type 'nest.help()' to find out more about NEST.\n",
      "\n",
      "\n",
      "Apr 03 18:21:25 SimulationManager::set_status [Info]: \n",
      "    Temporal resolution changed from 0.1 to 0.1 ms.\n"
     ]
    }
   ],
   "source": [
    "import nest\n",
    "import nest.raster_plot\n",
    "import pylab\n",
    "\n",
    "nest.ResetKernel()\n",
    "n = 4  # number of threads'\n",
    "dt = 0.1\n",
    "\n",
    "nest.SetKernelStatus(\n",
    "    {\"local_num_threads\": n, \"resolution\": dt, \"overwrite_files\": True}\n",
    ")\n",
    "\n",
    "nest.SetKernelStatus({\"print_time\": True})"
   ]
  },
  {
   "attachments": {},
   "cell_type": "markdown",
   "metadata": {},
   "source": [
    "**Model parameters**\n"
   ]
  },
  {
   "cell_type": "code",
   "execution_count": 3,
   "metadata": {},
   "outputs": [],
   "source": [
    "N_total = 10_000\n",
    "N_E = int(N_total * (4 / 5))  # Number of excitatory neurons\n",
    "N_I = int(N_total * (1 / 5))  # Number of excitatory neurons\n",
    "N_rec = N_E  # Number of neurons to record"
   ]
  },
  {
   "cell_type": "code",
   "execution_count": 4,
   "metadata": {},
   "outputs": [],
   "source": [
    "synapse_model = \"static_synapse\"\n",
    "neuron_model = \"iaf_cond_exp\"\n",
    "\n",
    "neuron_params = {\n",
    "    \"V_m\": -60.0,\n",
    "    \"E_L\": -60.0,\n",
    "    \"V_th\": -50.0,\n",
    "    \"V_reset\": -60.0,\n",
    "    \"t_ref\": 5.0,\n",
    "    \"E_ex\": 0.0,\n",
    "    \"E_in\": -80.0,\n",
    "    \"C_m\": 100.0,\n",
    "    \"g_L\": 10.0,\n",
    "    # \"I_e\": 200.0,\n",
    "    \"tau_syn_ex\": 5.0,\n",
    "    \"tau_syn_in\": 10.0,\n",
    "}\n",
    "\n",
    "# Synapse parameters\n",
    "P_0 = 0.01  # Connection probability\n",
    "delay = 1.0\n",
    "\n",
    "J_E = 4.0\n",
    "J_I = -51.0\n",
    "\n",
    "# Stimulation\n",
    "p_rate = 10_000"
   ]
  },
  {
   "attachments": {},
   "cell_type": "markdown",
   "metadata": {},
   "source": [
    "**Create Neurons**\n"
   ]
  },
  {
   "cell_type": "code",
   "execution_count": 5,
   "metadata": {},
   "outputs": [],
   "source": [
    "nodes = nest.Create(neuron_model, N_total, params=neuron_params)\n",
    "nodes_E = nodes[:N_E]\n",
    "nodes_I = nodes[N_E:]\n",
    "\n",
    "nest.SetStatus(nodes, \"V_m\", -60.0)"
   ]
  },
  {
   "attachments": {},
   "cell_type": "markdown",
   "metadata": {},
   "source": [
    "**Setting up synapses**\n"
   ]
  },
  {
   "cell_type": "code",
   "execution_count": 6,
   "metadata": {},
   "outputs": [],
   "source": [
    "exc_syn_dict = {\n",
    "    \"synapse_model\": \"static_synapse\",\n",
    "    \"weight\": J_E,\n",
    "    \"delay\": delay,\n",
    "}\n",
    "inh_syn_dict = {\n",
    "    \"synapse_model\": \"static_synapse\",\n",
    "    \"weight\": J_I,\n",
    "    \"delay\": delay,\n",
    "}"
   ]
  },
  {
   "attachments": {},
   "cell_type": "markdown",
   "metadata": {},
   "source": [
    "**Connecting the network**\n"
   ]
  },
  {
   "cell_type": "code",
   "execution_count": 7,
   "metadata": {},
   "outputs": [],
   "source": [
    "prob_conn_dict = {\"rule\": \"pairwise_bernoulli\", \"p\": P_0}\n",
    "\n",
    "nest.Connect(\n",
    "    nodes_E,\n",
    "    nodes,\n",
    "    syn_spec=exc_syn_dict,\n",
    "    conn_spec=prob_conn_dict,\n",
    ")\n",
    "nest.Connect(\n",
    "    nodes_I,\n",
    "    nodes,\n",
    "    syn_spec=inh_syn_dict,\n",
    "    conn_spec=prob_conn_dict,\n",
    ")"
   ]
  },
  {
   "attachments": {},
   "cell_type": "markdown",
   "metadata": {},
   "source": [
    "**Add stimualtion and spike detector**\n"
   ]
  },
  {
   "cell_type": "code",
   "execution_count": 8,
   "metadata": {},
   "outputs": [],
   "source": [
    "# nest.SetDefaults(\"spike_recorder\", {\"to_file\": True})\n",
    "noise = nest.Create(\"poisson_generator\", 1, {\"rate\": p_rate, \"start\": 0, \"stop\": 200})\n",
    "\n",
    "spikes = nest.Create(\"spike_recorder\", 1, [{\"label\": \"va-py-ex\"}])\n",
    "spikes_E = spikes[:1]\n",
    "\n",
    "nest.Connect(nodes_E[:N_rec], spikes_E)"
   ]
  },
  {
   "cell_type": "code",
   "execution_count": 9,
   "metadata": {},
   "outputs": [],
   "source": [
    "nest.Connect(noise, nodes)"
   ]
  },
  {
   "attachments": {},
   "cell_type": "markdown",
   "metadata": {},
   "source": [
    "## 2. Interact with the network\n"
   ]
  },
  {
   "attachments": {},
   "cell_type": "markdown",
   "metadata": {},
   "source": [
    "**Simulate**\n"
   ]
  },
  {
   "cell_type": "code",
   "execution_count": 10,
   "metadata": {},
   "outputs": [],
   "source": [
    "simtime = 1000  # ms\n",
    "# nest.Simulate(simtime)"
   ]
  },
  {
   "attachments": {},
   "cell_type": "markdown",
   "metadata": {},
   "source": [
    "**Analyze data**\n"
   ]
  },
  {
   "cell_type": "code",
   "execution_count": 11,
   "metadata": {},
   "outputs": [
    {
     "data": {
      "text/plain": [
       "' rate_iaf = nest.GetStatus(spikes)[0][\"n_events\"] / ((simtime / 1000.0) * N_rec)\\nprint(\"Average Rate of recorded electrodes: \" + str(rate_iaf) + \"Hz\")\\n\\nnest.raster_plot.from_device(spikes_E, hist=True) '"
      ]
     },
     "execution_count": 11,
     "metadata": {},
     "output_type": "execute_result"
    }
   ],
   "source": [
    "\"\"\" rate_iaf = nest.GetStatus(spikes)[0][\"n_events\"] / ((simtime / 1000.0) * N_rec)\n",
    "print(\"Average Rate of recorded electrodes: \" + str(rate_iaf) + \"Hz\")\n",
    "\n",
    "nest.raster_plot.from_device(spikes_E, hist=True) \"\"\""
   ]
  },
  {
   "attachments": {},
   "cell_type": "markdown",
   "metadata": {},
   "source": [
    "## 3. Simulate different synaptic strengths\n"
   ]
  },
  {
   "attachments": {},
   "cell_type": "markdown",
   "metadata": {},
   "source": [
    "Let's now explore this parameter space of synaptic weights, notice that our parameters are x10 the values on the graph:\n",
    "\n",
    "<img src=\"https://www.frontiersin.org/files/Articles/2252/fncom-05-00030-HTML/image_m/fncom-05-00030-g002.jpg\" width=\"600\">"
   ]
  },
  {
   "attachments": {},
   "cell_type": "markdown",
   "metadata": {},
   "source": [
    "This is done by running a poisson generator for 200ms, then turning it off to see how long the signal survives"
   ]
  },
  {
   "attachments": {},
   "cell_type": "markdown",
   "metadata": {},
   "source": [
    "**The IS zone**\n",
    "\n",
    "As the raster plot shows, although the Poisson nose only runs between 0 - 200 ms, the network activity persists until the end of the simulation - 500ms. Indicating that we have found the delicate balance of E / I strength"
   ]
  },
  {
   "cell_type": "code",
   "execution_count": 20,
   "metadata": {},
   "outputs": [
    {
     "name": "stdout",
     "output_type": "stream",
     "text": [
      "Starting simulation\n",
      "\n",
      "Apr 03 18:43:08 NodeManager::prepare_nodes [Info]: \n",
      "    Preparing 10002 nodes for simulation.\n",
      "\n",
      "Apr 03 18:43:08 SimulationManager::start_updating_ [Info]: \n",
      "    Number of local nodes: 10002\n",
      "    Simulation time (ms): 1000\n",
      "    Number of OpenMP threads: 1\n",
      "    Number of MPI processes: 1\n",
      "\n",
      "[ 100% ] Model time: 1000.0 ms, Real-time factor: 25.5664\n",
      "\n",
      "Apr 03 18:43:34 SimulationManager::run [Info]: \n",
      "    Simulation finished.\n"
     ]
    },
    {
     "data": {
      "image/png": "[encoded data removed]",
      "text/plain": [
       "<Figure size 800x800 with 2 Axes>"
      ]
     },
     "metadata": {},
     "output_type": "display_data"
    }
   ],
   "source": [
    "from classes.random_network import RandomNetwork\n",
    "\n",
    "params_1 = {\n",
    "    \"J_E\": 0.5,\n",
    "    \"J_I\": -7.0,\n",
    "    \"p_rate\": 2_000\n",
    "\n",
    "}\n",
    "\n",
    "random_network_1 = RandomNetwork(**params_1)\n",
    "random_network_1.build()\n",
    "random_network_1.run(simtime=1000.0)\n",
    "random_network_1.plot()"
   ]
  },
  {
   "attachments": {},
   "cell_type": "markdown",
   "metadata": {},
   "source": [
    "**The ET zone**\n",
    "\n",
    "As the raster plot shows, the network activity dies when the Poisson generator stops."
   ]
  },
  {
   "cell_type": "code",
   "execution_count": 19,
   "metadata": {},
   "outputs": [
    {
     "name": "stdout",
     "output_type": "stream",
     "text": [
      "Starting simulation\n",
      "\n",
      "Apr 03 18:29:25 NodeManager::prepare_nodes [Info]: \n",
      "    Preparing 10002 nodes for simulation.\n",
      "\n",
      "Apr 03 18:29:25 SimulationManager::start_updating_ [Info]: \n",
      "    Number of local nodes: 10002\n",
      "    Simulation time (ms): 1000\n",
      "    Number of OpenMP threads: 1\n",
      "    Number of MPI processes: 1\n",
      "\n",
      "[ 100% ] Model time: 1000.0 ms, Real-time factor: 20.4636\n",
      "\n",
      "Apr 03 18:29:46 SimulationManager::run [Info]: \n",
      "    Simulation finished.\n"
     ]
    },
    {
     "data": {
      "image/png": "[encoded data removed]",
      "text/plain": [
       "<Figure size 800x800 with 2 Axes>"
      ]
     },
     "metadata": {},
     "output_type": "display_data"
    }
   ],
   "source": [
    "params_2 = {\n",
    "    \"J_E\": 0.1,\n",
    "    \"J_I\": -0.9,\n",
    "    \"p_rate\": 2_000\n",
    "}\n",
    "\n",
    "random_network_2 = RandomNetwork(**params_2)\n",
    "random_network_2.build()\n",
    "random_network_2.run(simtime=1000.0)\n",
    "random_network_2.plot()"
   ]
  }
 ],
 "metadata": {
  "kernelspec": {
   "display_name": ".venv",
   "language": "python",
   "name": "python3"
  },
  "language_info": {
   "codemirror_mode": {
    "name": "ipython",
    "version": 3
   },
   "file_extension": ".py",
   "mimetype": "text/x-python",
   "name": "python",
   "nbconvert_exporter": "python",
   "pygments_lexer": "ipython3",
   "version": "3.10.9"
  },
  "orig_nbformat": 4
 },
 "nbformat": 4,
 "nbformat_minor": 2
}
