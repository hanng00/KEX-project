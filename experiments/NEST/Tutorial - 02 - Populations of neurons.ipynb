{
 "cells": [
  {
   "attachments": {},
   "cell_type": "markdown",
   "metadata": {},
   "source": [
    "# NEST Tutorial | Part 2: Populations of neurons"
   ]
  },
  {
   "attachments": {},
   "cell_type": "markdown",
   "metadata": {},
   "source": [
    "Plot configuration"
   ]
  },
  {
   "cell_type": "code",
   "execution_count": 59,
   "metadata": {},
   "outputs": [],
   "source": [
    "import matplotlib.pyplot as plt\n",
    "import matplotlib as mpl\n",
    "import scienceplots\n",
    "\n",
    "plt.style.use([\"science\"])\n",
    "# mpl.rcParams[\"font.serif\"] = [\"Times New Roman\"]\n"
   ]
  },
  {
   "cell_type": "code",
   "execution_count": 60,
   "metadata": {},
   "outputs": [],
   "source": [
    "import nest\n",
    "nest.ResetKernel()"
   ]
  },
  {
   "attachments": {},
   "cell_type": "markdown",
   "metadata": {},
   "source": [
    "### 1. Creating parameterised populations of nodes"
   ]
  },
  {
   "attachments": {},
   "cell_type": "markdown",
   "metadata": {},
   "source": [
    "We can specify the number of neurons to create by using the kwarg:"
   ]
  },
  {
   "cell_type": "code",
   "execution_count": 61,
   "metadata": {},
   "outputs": [
    {
     "name": "stdout",
     "output_type": "stream",
     "text": [
      "NodeCollection(metadata=None, model=iaf_psc_alpha, size=100, first=1, last=100)\n"
     ]
    }
   ],
   "source": [
    "ndict = {\"I_e\": 200.0, \"tau_m\": 20.0}\n",
    "neuronpop = nest.Create(\"iaf_psc_alpha\", n=100, params=ndict)\n",
    "\n",
    "print(neuronpop)"
   ]
  },
  {
   "attachments": {},
   "cell_type": "markdown",
   "metadata": {},
   "source": [
    "There are three ways to conigure batches of neurons:\n",
    "1. Parameterising the neurons at creation.\n",
    "2. Using SetStatus() after creation\n",
    "3. Setting the neuron model _before_ creation.\n",
    "\n",
    "Always try to configure 3 > 2 > 1, since that order is most effective."
   ]
  },
  {
   "cell_type": "code",
   "execution_count": 62,
   "metadata": {},
   "outputs": [],
   "source": [
    "# Method 3\n",
    "\n",
    "ndict = {\"I_e\": 200.0, \"tau_m\": 20.0}\n",
    "nest.SetDefaults(\"iaf_psc_alpha\", ndict)    # Setting parameters before init.\n",
    "\n",
    "neuronpop1 = nest.Create(\"iaf_psc_alpha\", n=100)\n",
    "neuronpop2 = nest.Create(\"iaf_psc_alpha\", n=100)\n",
    "neuronpop3 = nest.Create(\"iaf_psc_alpha\", n=100)"
   ]
  },
  {
   "attachments": {},
   "cell_type": "markdown",
   "metadata": {},
   "source": [
    "If batches of neurons should be of the same model but different parameters, the \n",
    "* CopyModel(existing, new, params) \n",
    "\n",
    "can be used:"
   ]
  },
  {
   "cell_type": "code",
   "execution_count": 63,
   "metadata": {},
   "outputs": [],
   "source": [
    "edict = {\"I_e\": 200.0, \"tau_m\": 20.0}\n",
    "nest.CopyModel(\"iaf_psc_alpha\", \"exc_iaf_psc_alpha\")\n",
    "nest.SetDefaults(\"exc_iaf_psc_alpha\", edict)"
   ]
  },
  {
   "cell_type": "code",
   "execution_count": 64,
   "metadata": {},
   "outputs": [],
   "source": [
    "idict = {\"I_e\": 300.0}\n",
    "nest.CopyModel(\"iaf_psc_alpha\", \"inh_iaf_psc_alpha\", params=idict)"
   ]
  },
  {
   "attachments": {},
   "cell_type": "markdown",
   "metadata": {},
   "source": [
    "The new models can be used to create neuron populations"
   ]
  },
  {
   "cell_type": "code",
   "execution_count": 65,
   "metadata": {},
   "outputs": [],
   "source": [
    "epop1 = nest.Create(\"exc_iaf_psc_alpha\", 100)\n",
    "epop2 = nest.Create(\"exc_iaf_psc_alpha\", 100)\n",
    "ipop1 = nest.Create(\"inh_iaf_psc_alpha\", 30)\n",
    "ipop2 = nest.Create(\"inh_iaf_psc_alpha\", 30)"
   ]
  },
  {
   "attachments": {},
   "cell_type": "markdown",
   "metadata": {},
   "source": [
    "Inhomogenous neuron parameters can be created by specifying a dict[str, List]"
   ]
  },
  {
   "cell_type": "code",
   "execution_count": 66,
   "metadata": {},
   "outputs": [
    {
     "name": "stdout",
     "output_type": "stream",
     "text": [
      "{'I_e': (200.0, 150.0), 'tau_m': (20.0, 20.0), 'V_m': (-77.0, -66.0)}\n"
     ]
    }
   ],
   "source": [
    "parameter_dict = {\"I_e\": [200.0, 150.0], \"tau_m\": 20.0, \"V_m\": [-77.0, -66.0]}\n",
    "pop3 = nest.Create(\"iaf_psc_alpha\", 2, params=parameter_dict)\n",
    "\n",
    "print(pop3.get([\"I_e\", \"tau_m\", \"V_m\"]))"
   ]
  },
  {
   "attachments": {},
   "cell_type": "markdown",
   "metadata": {},
   "source": [
    "### 2. Setting parameters for populations of neurons"
   ]
  },
  {
   "attachments": {},
   "cell_type": "markdown",
   "metadata": {},
   "source": [
    "If some neurons in a population should have other values, such as some randomization, then list comprehension is the way to go"
   ]
  },
  {
   "cell_type": "code",
   "execution_count": 67,
   "metadata": {},
   "outputs": [],
   "source": [
    "import numpy as np\n",
    "\n",
    "def randomized_voltage(Vth, Vrest):\n",
    "    return Vrest+(Vth-Vrest) * np.random.rand()\n",
    "\n",
    "Vth=-55.\n",
    "Vrest=-70.\n",
    "dVms =  {\"V_m\": [randomized_voltage(Vth, Vrest) for i, x in enumerate(epop1)]}\n",
    "\n",
    "epop1.set(dVms)"
   ]
  },
  {
   "attachments": {},
   "cell_type": "markdown",
   "metadata": {},
   "source": [
    "NEST also has in-built features which can be used for both node parameters and connection parameters (such as probability, weights and delays).\n",
    "\n",
    "**Parameter complexity affects performance**\n"
   ]
  },
  {
   "cell_type": "code",
   "execution_count": 68,
   "metadata": {},
   "outputs": [],
   "source": [
    "epop1.set({\"V_m\": Vrest + nest.random.uniform(0.0, Vth-Vrest)})"
   ]
  },
  {
   "attachments": {},
   "cell_type": "markdown",
   "metadata": {},
   "source": [
    "### 3. Generating populations of neurons with deterministic connections"
   ]
  },
  {
   "cell_type": "code",
   "execution_count": 69,
   "metadata": {},
   "outputs": [],
   "source": [
    "import nest\n",
    "\n",
    "pop1 = nest.Create(\"iaf_psc_alpha\", 10)\n",
    "pop1.set({\"I_e\": 376.0})\n",
    "\n",
    "pop2 = nest.Create(\"iaf_psc_alpha\", 10)\n",
    "\n",
    "multimeter = nest.Create(\"multimeter\", 10)\n",
    "multimeter.set({\"record_from\":[\"V_m\"]})"
   ]
  },
  {
   "attachments": {},
   "cell_type": "markdown",
   "metadata": {},
   "source": [
    "Populations of neurons are connected via [rules](https://nest-simulator.readthedocs.io/en/v3.3/guides/connection_management.html#connection-management):\n",
    "\n",
    "- _all_to_all_ (default) - each neuron in pop1 is connected to every neuron in pop2, resulting in 10 \\*\\* 2 connections.\n"
   ]
  },
  {
   "cell_type": "code",
   "execution_count": 70,
   "metadata": {},
   "outputs": [],
   "source": [
    "nest.Connect(pop1, pop2, syn_spec={\"weight\":20.0})"
   ]
  },
  {
   "attachments": {},
   "cell_type": "markdown",
   "metadata": {},
   "source": [
    "* _one_to_one_ - the first neuron in pop1 connects to the first neuron in pop2 and so forth."
   ]
  },
  {
   "cell_type": "code",
   "execution_count": 71,
   "metadata": {},
   "outputs": [],
   "source": [
    "nest.Connect(pop1, pop2, \"one_to_one\", syn_spec={\"weight\":20.0, \"delay\":1.0})"
   ]
  },
  {
   "attachments": {},
   "cell_type": "markdown",
   "metadata": {},
   "source": [
    "The multimeter is connected using the default rule"
   ]
  },
  {
   "cell_type": "code",
   "execution_count": 72,
   "metadata": {},
   "outputs": [],
   "source": [
    "nest.Connect(multimeter, pop2)"
   ]
  },
  {
   "attachments": {},
   "cell_type": "markdown",
   "metadata": {},
   "source": [
    "### 4. Connecting populatiosn with random connections"
   ]
  },
  {
   "attachments": {},
   "cell_type": "markdown",
   "metadata": {},
   "source": [
    "In between one_to_one and all_to_all, we can use random connections via the following rule:\n",
    "* _fixed_indegree_ - creates n random connections for each neuron in the target population post\n",
    "* _fixed_total_number_ - randomly construct n connections\n",
    "\n",
    "We can allowing / forbidding self-connections and multiple connections between two neurons by flagging _allow_autapses_ and _allow_multapses_ respectively."
   ]
  },
  {
   "cell_type": "code",
   "execution_count": 73,
   "metadata": {},
   "outputs": [],
   "source": [
    "d = 1.0\n",
    "Je = 2.0\n",
    "Ke = 20\n",
    "\n",
    "Ji = -4.0\n",
    "Ki = 12\n",
    "\n",
    "conn_dict_ex = {\"rule\": \"fixed_indegree\", \"indegree\": Ke}\n",
    "conn_dict_in = {\"rule\": \"fixed_indegree\", \"indegree\": Ki}\n",
    "syn_dict_ex = {\"delay\": d, \"weight\": Je}\n",
    "syn_dict_in = {\"delay\": d, \"weight\": Ji}\n",
    "\n",
    "nest.Connect(epop1, ipop1, conn_dict_ex, syn_dict_ex)\n",
    "nest.Connect(ipop1, epop1, conn_dict_in, syn_dict_in)"
   ]
  },
  {
   "attachments": {},
   "cell_type": "markdown",
   "metadata": {},
   "source": [
    "Now each neuron in the target population **ipop1** has \n",
    "* Ke incoming random connections \n",
    "* chosen from the source population epop1 \n",
    "* with weight Je and delay d, \n",
    "\n",
    "and each neuron in the target population **epop1** has \n",
    "* Ki incoming random connections \n",
    "* chosen from the source population ipop1 \n",
    "* with weight Ji and delay d."
   ]
  },
  {
   "attachments": {},
   "cell_type": "markdown",
   "metadata": {},
   "source": [
    "### 5. Specifying the behaviour of devices"
   ]
  },
  {
   "attachments": {},
   "cell_type": "markdown",
   "metadata": {},
   "source": [
    "Devices can be time-configured"
   ]
  },
  {
   "cell_type": "code",
   "execution_count": 74,
   "metadata": {},
   "outputs": [],
   "source": [
    "pg = nest.Create(\"poisson_generator\")\n",
    "pg.set({\"start\": 100.0, \"stop\": 150.0})"
   ]
  },
  {
   "attachments": {},
   "cell_type": "markdown",
   "metadata": {},
   "source": [
    "And their output specified using record_to\n",
    "* ascii (file)\n",
    "* memory\n",
    "* screen prints"
   ]
  },
  {
   "cell_type": "code",
   "execution_count": 76,
   "metadata": {},
   "outputs": [],
   "source": [
    "recdict = {\"record_to\" : \"ascii\", \"label\" : \"epop_mp\"}\n",
    "mm1 = nest.Create(\"multimeter\", params=recdict)"
   ]
  }
 ],
 "metadata": {
  "kernelspec": {
   "display_name": ".venv",
   "language": "python",
   "name": "python3"
  },
  "language_info": {
   "codemirror_mode": {
    "name": "ipython",
    "version": 3
   },
   "file_extension": ".py",
   "mimetype": "text/x-python",
   "name": "python",
   "nbconvert_exporter": "python",
   "pygments_lexer": "ipython3",
   "version": "3.10.9"
  },
  "orig_nbformat": 4
 },
 "nbformat": 4,
 "nbformat_minor": 2
}
