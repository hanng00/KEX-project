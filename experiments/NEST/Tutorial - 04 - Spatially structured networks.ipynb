{
 "cells": [
  {
   "attachments": {},
   "cell_type": "markdown",
   "metadata": {},
   "source": [
    "# NEST Simulator | Part 4: Spatially structured networks"
   ]
  },
  {
   "attachments": {},
   "cell_type": "markdown",
   "metadata": {},
   "source": [
    "Plot configuration"
   ]
  },
  {
   "cell_type": "code",
   "execution_count": 36,
   "metadata": {},
   "outputs": [],
   "source": [
    "import matplotlib.pyplot as plt\n",
    "import matplotlib as mpl\n",
    "import scienceplots\n",
    "\n",
    "plt.style.use([\"science\"])\n",
    "# mpl.rcParams[\"font.serif\"] = [\"Times New Roman\"]\n"
   ]
  },
  {
   "attachments": {},
   "cell_type": "markdown",
   "metadata": {},
   "source": [
    "### 1. Adding spatial information to populations"
   ]
  },
  {
   "attachments": {},
   "cell_type": "markdown",
   "metadata": {},
   "source": [
    "The generation of strucutred networks is carried out in three steps:\n",
    "1. **Defining spatiatlly distributed nodes** - assign the layout and neuron types within a layer of our network.\n",
    "2. **Defining connection specifications**, specify connection parameters. \n",
    "3. **Connecting nodes**, apply connection specifications between nodes, equivalent to population-specifity.\n",
    "4. **Auxillary**, visualize the results of the above steps."
   ]
  },
  {
   "cell_type": "code",
   "execution_count": 37,
   "metadata": {},
   "outputs": [],
   "source": [
    "import nest\n",
    "import matplotlib.pyplot as plt\n",
    "import numpy as np\n",
    "\n",
    "nest.ResetKernel()\n"
   ]
  },
  {
   "attachments": {},
   "cell_type": "markdown",
   "metadata": {},
   "source": [
    "### 2. Defining spatially distributed nodes"
   ]
  },
  {
   "attachments": {},
   "cell_type": "markdown",
   "metadata": {},
   "source": [
    "Spatially distributed nodes follows this template:"
   ]
  },
  {
   "attachments": {},
   "cell_type": "markdown",
   "metadata": {},
   "source": [
    "```python\n",
    "import nest\n",
    "\n",
    "positions = ...  # See below for how to define positions\n",
    "s_nodes = nest.Create(node_model, positions=positions)\n",
    "```"
   ]
  },
  {
   "attachments": {},
   "cell_type": "markdown",
   "metadata": {},
   "source": [
    "**Position: On-grid**\n",
    "\n",
    "Explicitely specify the spacing of the grid with shape (n vs. m rows and columns) and extend (read size, defaults to 1 x 1)."
   ]
  },
  {
   "cell_type": "code",
   "execution_count": 38,
   "metadata": {},
   "outputs": [
    {
     "data": {
      "image/png": "[encoded data removed]",
      "text/plain": [
       "<Figure size 350x262.5 with 1 Axes>"
      ]
     },
     "metadata": {},
     "output_type": "display_data"
    }
   ],
   "source": [
    "positions = nest.spatial.grid(shape=[10, 10],  # the number of rows and column in this grid ...\n",
    "                              extent=[2., 2.]  # the size of the grid in mm\n",
    "                              )\n",
    "grid_neurons = nest.Create('iaf_psc_alpha', positions=positions)\n",
    "nest.PlotLayer(grid_neurons)\n",
    "plt.show()\n"
   ]
  },
  {
   "attachments": {},
   "cell_type": "markdown",
   "metadata": {},
   "source": [
    "**Position: Off-grid**\n",
    "\n",
    "We define a parameter for the placements of the neurons."
   ]
  },
  {
   "cell_type": "code",
   "execution_count": 39,
   "metadata": {},
   "outputs": [
    {
     "data": {
      "image/png": "[encoded data removed]",
      "text/plain": [
       "<Figure size 350x262.5 with 1 Axes>"
      ]
     },
     "metadata": {},
     "output_type": "display_data"
    }
   ],
   "source": [
    "positions = nest.spatial.free(\n",
    "    nest.random.uniform(min=-0.5, max=0.5),  # using random positions in a uniform distribution\n",
    "    num_dimensions=2  # have to specify number of dimensions\n",
    ")\n",
    "s_nodes = nest.Create('iaf_psc_alpha', 100, positions=positions)\n",
    "\n",
    "nest.PlotLayer(s_nodes)\n",
    "plt.show()"
   ]
  },
  {
   "attachments": {},
   "cell_type": "markdown",
   "metadata": {},
   "source": [
    "### 3. Defining connection profiles"
   ]
  },
  {
   "attachments": {},
   "cell_type": "markdown",
   "metadata": {},
   "source": [
    "To specify connections between populations of neurons, we specify a connection dictionary such as the ones below:"
   ]
  },
  {
   "cell_type": "code",
   "execution_count": 40,
   "metadata": {},
   "outputs": [],
   "source": [
    "J = 0.5\n",
    "\n",
    "# Circular mask, distance-dependent connection probability with gaussian distribution\n",
    "conn1 = {'rule': 'pairwise_bernoulli',\n",
    "         'p': nest.spatial_distributions.gaussian(nest.spatial.distance, std=0.2),\n",
    "         'mask': {'circular': {'radius': 0.75}},\n",
    "         'allow_autapses': False\n",
    "         }\n",
    "\n",
    "# Rectangular mask with non-centered anchor, constant connection probability\n",
    "conn2 = {'rule': 'pairwise_bernoulli',\n",
    "         'p': 0.75,\n",
    "         'mask': {'rectangular': {'lower_left': [-0.5, -0.5], 'upper_right': [0.5, 0.5]},\n",
    "                 'anchor': [0.5, 0.5]},\n",
    "         'allow_autapses': False\n",
    "         }\n",
    "\n",
    "# Donut mask, linear distance-dependent connection probability\n",
    "conn3 = {'rule': 'pairwise_bernoulli',\n",
    "         'p': 1.0 - 0.8 * nest.spatial.distance,\n",
    "         'mask': {'doughnut': {'inner_radius': 0.1, 'outer_radius': 0.95}},\n",
    "         }\n",
    "\n",
    "# Rectangular mask, fixed outdegree, distance-dependent weights from a gaussian distribution,\n",
    "# distance-dependent delays\n",
    "conn4 = {'rule': 'fixed_outdegree',\n",
    "         'outdegree': 40,\n",
    "         'mask': {'rectangular': {'lower_left': [-0.5, -0.5], 'upper_right': [0.5, 0.5]}},\n",
    "         'weight': nest.spatial_distributions.gaussian(\n",
    "             J*nest.spatial.distance, std=0.25),\n",
    "         'delay': 0.1 + 0.2 * nest.spatial.distance,\n",
    "         'allow_autapses': False\n",
    "         }"
   ]
  },
  {
   "attachments": {},
   "cell_type": "markdown",
   "metadata": {},
   "source": [
    "This allows us to generate structural neuronal networks"
   ]
  },
  {
   "attachments": {},
   "cell_type": "markdown",
   "metadata": {},
   "source": [
    "<img src=\"https://nest-simulator.readthedocs.io/en/v3.3/_images/sample2_rectanchor.png\" width=\"400px\">\n"
   ]
  },
  {
   "attachments": {},
   "cell_type": "markdown",
   "metadata": {},
   "source": [
    "The connection parameters are described in detail [here](https://nest-simulator.readthedocs.io/en/v3.3/tutorials/pynest_tutorial/part_4_spatially_structured_networks.html#:~:text=%3A%20False%0A%20%20%20%20%20%20%20%20%20%7D-,Parameter,Possible%20values,-rule). But it allows neuron parameters to be distance dependent."
   ]
  },
  {
   "attachments": {},
   "cell_type": "markdown",
   "metadata": {},
   "source": [
    "### 4. Connecting spatially distributed nodes"
   ]
  },
  {
   "cell_type": "code",
   "execution_count": 43,
   "metadata": {},
   "outputs": [],
   "source": [
    "ex_pop = nest.Create('iaf_psc_alpha', positions=nest.spatial.grid(shape=[4, 5]))\n",
    "in_pop = nest.Create('iaf_psc_alpha', positions=nest.spatial.grid(shape=[5, 4]))\n",
    "conn_dict_ex = {'rule': 'pairwise_bernoulli',\n",
    "                'p': 1.0,\n",
    "                'mask': {'circular': {'radius': 0.5}}}\n",
    "\n",
    "conn_dict_in = {'rule': 'pairwise_bernoulli',\n",
    "                'p': 1.0,\n",
    "                'mask': {'circular': {'radius': 0.75}}}\n",
    "\n",
    "# And now we connect E->I\n",
    "nest.Connect(ex_pop, in_pop, conn_dict_ex)\n",
    "\n",
    "nest.Connect(ex_pop, ex_pop, conn_dict_ex)\n",
    "nest.Connect(in_pop, in_pop, conn_dict_in)\n",
    "nest.Connect(in_pop, ex_pop, conn_dict_in)"
   ]
  },
  {
   "cell_type": "code",
   "execution_count": 46,
   "metadata": {},
   "outputs": [
    {
     "name": "stdout",
     "output_type": "stream",
     "text": [
      "\n",
      "Mar 27 15:01:54 NodeManager::prepare_nodes [Info]: \n",
      "    Preparing 320 nodes for simulation.\n",
      "\n",
      "Mar 27 15:01:54 SimulationManager::start_updating_ [Info]: \n",
      "    Number of local nodes: 320\n",
      "    Simulation time (ms): 100000\n",
      "    Number of OpenMP threads: 1\n",
      "    Number of MPI processes: 1\n",
      "\n",
      "Mar 27 15:01:58 SimulationManager::run [Info]: \n",
      "    Simulation finished.\n"
     ]
    }
   ],
   "source": [
    "nest.Simulate(100000.0)"
   ]
  }
 ],
 "metadata": {
  "kernelspec": {
   "display_name": ".venv",
   "language": "python",
   "name": "python3"
  },
  "language_info": {
   "codemirror_mode": {
    "name": "ipython",
    "version": 3
   },
   "file_extension": ".py",
   "mimetype": "text/x-python",
   "name": "python",
   "nbconvert_exporter": "python",
   "pygments_lexer": "ipython3",
   "version": "3.10.9"
  },
  "orig_nbformat": 4
 },
 "nbformat": 4,
 "nbformat_minor": 2
}
