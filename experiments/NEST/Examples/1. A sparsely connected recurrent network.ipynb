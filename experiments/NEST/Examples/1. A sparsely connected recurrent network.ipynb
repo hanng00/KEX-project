{
 "cells": [
  {
   "attachments": {},
   "cell_type": "markdown",
   "metadata": {},
   "source": [
    "# A sparsely connected recurrent network"
   ]
  },
  {
   "attachments": {},
   "cell_type": "markdown",
   "metadata": {},
   "source": [
    "A model of activity dynamics in a local cortical network proposed by Brunel (2000). The Notebook is inspired by [this one](https://notebook.community/mschmidt87/nest-simulator/doc/nest_by_example/NEST_by_Example).\n",
    "\n",
    "**1. Neuron populations**:\n",
    "\n",
    "The local cortical network consists of two neuron populations: \n",
    "* a population of $N_E$ excitatory neurons \n",
    "* and a population of $N_I$ inhibitory neurons. \n",
    "To mimic the cortical ratio of 80% excitatory neurons and 20% inhibitory neurons, we assume that $N_E=$ 8000 and $N_I=$ 2000. Thus, our local network has a total of 10,000 neurons.\n",
    "\n",
    "**2. Neuron model**:\n",
    "\n",
    "For both the excitatory and the inhibitory population, we use the same integrate-and-fire neuron model with current-based synapses. \n",
    "* Incoming excitatory and inhibitory spikes displace the membrane potential $V_m$ by $J_{E}$ and $J_I$, respectively. \n",
    "* If $V_m$ reaches the threshold value $V_{\\text{th}}$, the membrane potential is reset to $V_{\\text{reset}}$, a spike is sent with delay $D=$ 1.5 ms to all post-synaptic neurons, and the neuron remains refractory for $\\tau_{\\text{rp}}=$ 2.0 ms.\n",
    "\n",
    "**3. Neuron conections**:\n",
    "\n",
    "The neurons are mutually connected with a probability of 10%. Specifically, each neuron receives input from \n",
    "* $C_{E}= 0.1 \\cdot N_{E}$ excitatory and \n",
    "* $C_I=0.1\\cdot N_{I}$ inhibitory neurons. \n",
    "The inhibitory synaptic weights $J_I$ are chosen with respect to the excitatory synaptic weights $J_E$ such that $J_I = -g \\cdot J_E$, with $g=$ 5.0 in this example.\n",
    "\n",
    "**4. External Stimulation**: \n",
    "\n",
    "In addition to the sparse recurrent inputs from within the local network, each neuron receives randomly timed excitatory input, mimicking the input from the rest of cortex. The random input is modelled as $C_E$ independent and identically distributed Poisson processes with rate $\\nu_{\\text{ext}}$, or equivalently, by a single Poisson process with rate $C_E \\cdot \\nu_{\\text{ext}}$. Here, we set $\\nu_{\\text{ext}}$ to twice the rate $\\nu_{\\text{th}}$ that is needed to drive a neuron to threshold asymptotically. The details of the model are summarized in the tables below.\n",
    "\n",
    "**5. Expected results**:\n",
    "\n",
    "In the resulting plot you should see a raster plot of 50 excitatory neurons during the first 300 ms of simulated time. Time is shown along the x-axis, neuron ID along the y-axis. At $t=0$, all neurons are in the same state $V_m=0$ and hence there is no spiking activity. The external stimulus rapidly drives the membrane potentials towards the threshold. \n",
    "\n",
    "Due to the random nature of the external stimulus, not all the neurons reach the threshold at the same time. After a few milliseconds, the neurons start to spike irregularly at roughly 40 spikes/s. In the original paper, this network state is called the asynchronous irregular state (Brunel, 2000)."
   ]
  },
  {
   "attachments": {},
   "cell_type": "markdown",
   "metadata": {},
   "source": [
    "### Plot configuration"
   ]
  },
  {
   "cell_type": "code",
   "execution_count": 1,
   "metadata": {},
   "outputs": [],
   "source": [
    "import matplotlib.pyplot as plt\n",
    "import matplotlib as mpl\n",
    "import scienceplots\n",
    "\n",
    "plt.style.use([\"science\"])"
   ]
  },
  {
   "attachments": {},
   "cell_type": "markdown",
   "metadata": {},
   "source": [
    "### 1. Initializing the network"
   ]
  },
  {
   "attachments": {},
   "cell_type": "markdown",
   "metadata": {},
   "source": [
    "**Model parameters**"
   ]
  },
  {
   "cell_type": "code",
   "execution_count": 1,
   "metadata": {},
   "outputs": [],
   "source": [
    "g = 5.0  # Ratio of IPSP to EPSP amplitude: J_I/J_E\n",
    "eta = 2.0  # rate of external population in multiples of threshold rate\n",
    "delay = 1.5  # synaptic delay in ms\n",
    "tau_m = 20.0  # Membrane time constant in mV\n",
    "V_th = 20.0  # Spike threshold in mV\n",
    "\n",
    "N_E = 8000\n",
    "N_I = 2000\n",
    "N_neurons = N_E + N_I\n",
    "\n",
    "C_E = int(N_E / 10)  # number of excitatory synapses per neuron\n",
    "C_I = int(N_I / 10)  # number of inhibitory synapses per neuron\n",
    "\n",
    "J_E = 0.1\n",
    "J_I = -g * J_E\n",
    "\n",
    "nu_ex = eta * V_th / (J_E * C_E * tau_m)  # rate of an external neuron in ms^-1\n",
    "p_rate = 1000.0 * nu_ex * C_E  # rate of the external population in s^-1"
   ]
  },
  {
   "attachments": {},
   "cell_type": "markdown",
   "metadata": {},
   "source": [
    "In the second to last line, we compute the firing rate nu_ex ($\\nu*{\\text{ext}}$) of a neuron in the external population. We define nu_ex as the product of a constant eta times the threshold rate $\\nu_{\\text{th}}$, i.e. the steady state firing rate which is needed to bring a neuron to threshold. The value of the scaling constant is defined with eta.\n",
    "\n",
    "In the final line, we compute the combined input rate due to the external population. With $C_E$ incoming synapses per neuron, the total rate is simply the product nu_ex\\*C_E. The factor 1000.0 in the product changes the units from spikes per ms to spikes per second.\n"
   ]
  },
  {
   "cell_type": "code",
   "execution_count": 12,
   "metadata": {},
   "outputs": [],
   "source": [
    "import nest\n",
    "import nest.raster_plot\n",
    "import pylab\n",
    "\n",
    "nest.ResetKernel()\n",
    "n = 4  # number of threads\n",
    "nest.SetKernelStatus({'local_num_threads': n})\n",
    "\n",
    "nest.SetKernelStatus({\"print_time\": True})"
   ]
  },
  {
   "attachments": {},
   "cell_type": "markdown",
   "metadata": {},
   "source": [
    "**Create neurons and devices**"
   ]
  },
  {
   "attachments": {},
   "cell_type": "markdown",
   "metadata": {},
   "source": [
    "The parameter values comes from Brunel's original paper"
   ]
  },
  {
   "cell_type": "code",
   "execution_count": 13,
   "metadata": {},
   "outputs": [],
   "source": [
    "nest.SetDefaults(\n",
    "    \"iaf_psc_delta\",\n",
    "    {\n",
    "        \"C_m\": 1.0,\n",
    "        \"tau_m\": tau_m,\n",
    "        \"t_ref\": 2.0,\n",
    "        \"E_L\": 0.0,\n",
    "        \"V_th\": V_th,\n",
    "        \"V_reset\": 10.0,\n",
    "    },\n",
    ")"
   ]
  },
  {
   "cell_type": "code",
   "execution_count": 14,
   "metadata": {},
   "outputs": [],
   "source": [
    "nodes = nest.Create(\"iaf_psc_delta\", N_neurons)\n",
    "nodes_E = nodes[:N_E]\n",
    "nodes_I = nodes[N_E:]\n",
    "\n",
    "noise = nest.Create(\"poisson_generator\", 1, {\"rate\": p_rate, \"start\": 0, \"stop\": 200})\n",
    "nest.SetDefaults(\"spike_recorder\", {\"to_file\": True})\n",
    "\n",
    "spikes = nest.Create(\n",
    "    \"spike_recorder\", 2, [{\"label\": \"brunel-py-ex\"}, {\"label\": \"brunel-py-in\"}]\n",
    ")\n",
    "\n",
    "spikes_E = spikes[:1]\n",
    "spikes_I = spikes[1:]"
   ]
  },
  {
   "attachments": {},
   "cell_type": "markdown",
   "metadata": {},
   "source": [
    "**Conecting the network**"
   ]
  },
  {
   "cell_type": "code",
   "execution_count": 15,
   "metadata": {},
   "outputs": [],
   "source": [
    "nest.CopyModel(\n",
    "    \"static_synapse_hom_w\",\n",
    "    \"excitatory\",\n",
    "    {\n",
    "        \"weight\": J_E,\n",
    "        \"delay\": delay,\n",
    "    },\n",
    ")\n",
    "nest.Connect(\n",
    "    nodes_E,\n",
    "    nodes,\n",
    "    {\"rule\": \"fixed_indegree\", \"indegree\": C_E},\n",
    "    \"excitatory\",\n",
    ")\n",
    "nest.CopyModel(\n",
    "    \"static_synapse_hom_w\",\n",
    "    \"inhibitory\",\n",
    "    {\n",
    "        \"weight\": J_I,\n",
    "        \"delay\": delay,\n",
    "    },\n",
    ")\n",
    "nest.Connect(\n",
    "    nodes_I,\n",
    "    nodes,\n",
    "    {\"rule\": \"fixed_indegree\", \"indegree\": C_I},\n",
    "    \"inhibitory\",\n",
    ")"
   ]
  },
  {
   "cell_type": "code",
   "execution_count": 16,
   "metadata": {},
   "outputs": [],
   "source": [
    "nest.Connect(noise, nodes, syn_spec=\"excitatory\")"
   ]
  },
  {
   "attachments": {},
   "cell_type": "markdown",
   "metadata": {},
   "source": [
    "Our network consists of 10,000 neurons, all of which have the same activity statistics due to the random connectivity. Thus, it suffices to record from a representative sample of neurons, rather than from the entire network. \n",
    "\n",
    "Here, we choose to record from 50 neurons and assign this number to the variable N_rec. We then connect the first 50 excitatory neurons to their spike detector. Again, we use standard Python list operations to select N_rec neurons from the list of all excitatory nodes. Alternatively, we could select 50 neurons at random, but since the neuron order has no meaning in this model, the two approaches would yield qualitatively the same results. Finally, we repeat this step for the inhibitory neurons."
   ]
  },
  {
   "cell_type": "code",
   "execution_count": 17,
   "metadata": {},
   "outputs": [],
   "source": [
    "N_rec = 50\n",
    "nest.Connect(nodes_E[:N_rec], spikes_E)\n",
    "nest.Connect(nodes_I[:N_rec], spikes_I)"
   ]
  },
  {
   "attachments": {},
   "cell_type": "markdown",
   "metadata": {},
   "source": [
    "## 2. Simulating the network"
   ]
  },
  {
   "cell_type": "code",
   "execution_count": 18,
   "metadata": {},
   "outputs": [
    {
     "name": "stdout",
     "output_type": "stream",
     "text": [
      "\n",
      "Mar 30 11:08:55 NodeManager::prepare_nodes [Info]: \n",
      "    Preparing 10012 nodes for simulation.\n",
      "Excitatory rate: 12.33 Hz\n",
      "Inhibitory rate: 12.30 Hz\n",
      "\n",
      "Mar 30 11:08:55 SimulationManager::start_updating_ [Info]: \n",
      "    Number of local nodes: 10012\n",
      "    Simulation time (ms): 600\n",
      "    Number of OpenMP threads: 4\n",
      "    Number of MPI processes: 1\n",
      "\n",
      "[ 100% ] Model time: 600.0 ms, Real-time factor: 2.5604\n",
      "\n",
      "Mar 30 11:08:57 SimulationManager::run [Info]: \n",
      "    Simulation finished.\n"
     ]
    },
    {
     "data": {
      "text/plain": [
       "[<matplotlib.lines.Line2D at 0x7fd6873345b0>]"
      ]
     },
     "execution_count": 18,
     "metadata": {},
     "output_type": "execute_result"
    },
    {
     "data": {
      "image/png": "[encoded data removed]",
      "text/plain": [
       "<Figure size 350x262.5 with 2 Axes>"
      ]
     },
     "metadata": {},
     "output_type": "display_data"
    }
   ],
   "source": [
    "simtime = 600\n",
    "nest.Simulate(simtime)\n",
    "ex_events, in_events = nest.GetStatus(spikes, \"n_events\")\n",
    "events_to_rate = 1000.0 / simtime / N_rec\n",
    "\n",
    "rate_ex = ex_events * events_to_rate\n",
    "print(\"Excitatory rate: {:.2f} Hz\".format(rate_ex))\n",
    "\n",
    "rate_in = in_events * events_to_rate\n",
    "print(\"Inhibitory rate: {:.2f} Hz\".format(rate_in))\n",
    "\n",
    "nest.raster_plot.from_device(spikes_E, hist=True)\n"
   ]
  },
  {
   "attachments": {},
   "cell_type": "markdown",
   "metadata": {},
   "source": [
    "## 3. Parallel simulation"
   ]
  }
 ],
 "metadata": {
  "kernelspec": {
   "display_name": ".venv",
   "language": "python",
   "name": "python3"
  },
  "language_info": {
   "codemirror_mode": {
    "name": "ipython",
    "version": 3
   },
   "file_extension": ".py",
   "mimetype": "text/x-python",
   "name": "python",
   "nbconvert_exporter": "python",
   "pygments_lexer": "ipython3",
   "version": "3.10.9"
  },
  "orig_nbformat": 4
 },
 "nbformat": 4,
 "nbformat_minor": 2
}
