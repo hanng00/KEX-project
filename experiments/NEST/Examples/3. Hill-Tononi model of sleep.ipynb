{
 "cells": [
  {
   "attachments": {},
   "cell_type": "markdown",
   "metadata": {},
   "source": [
    "# 3. Hill-Tononi model of sleep"
   ]
  },
  {
   "attachments": {},
   "cell_type": "markdown",
   "metadata": {},
   "source": [
    "[Notebook source](https://github.com/synergetics/nestlings/blob/master/4_hill_tononi.ipynb)"
   ]
  },
  {
   "attachments": {},
   "cell_type": "markdown",
   "metadata": {},
   "source": [
    "This tutorial shows you how to implement a simplified version of the Hill-Tononi model of the early visual pathway using the NEST Topology module. The model is described in the paper\n",
    "\n",
    "S. L. Hill and G. Tononi. Modeling Sleep and Wakefulness in the Thalamocortical System. J Neurophysiology 93:1671-1698 (2005). Freely available via `doi 10.1152/jn.00915.2004 http://dx.doi.org/10.1152/jn.00915.2004\n",
    "\n",
    "**Model simplifications**\n",
    "\n",
    "We simplify the model somewhat both to keep this tutorial a bit shorter, and because some details of the Hill-Tononi model are not currently supported by NEST. Simplifications include:\n",
    "\n",
    "1. We use the iaf_cond_alpha neuron model, which is simpler than the Hill-Tononi model.\n",
    "\n",
    "2. As the iaf_cond_alpha neuron model only supports two synapses (labeled \"ex\" and \"in\"), we only include AMPA and GABA_A synapses.\n",
    "\n",
    "3. We ignore the secondary pathway (Ts, Rs, Vs), since it adds just more of the same from a technical point of view.\n",
    "\n",
    "4. Synaptic delays follow a Gaussian distribution in the HT model. This implies actually a Gaussian distributions clipped at some small, non-zero delay, since delays must be positive. Currently, there is a bug in the Topology module when using clipped Gaussian distribution. We therefore draw delays from a uniform distribution.\n",
    "\n",
    "5. Some further adaptations are given at the appropriate locations in the script."
   ]
  },
  {
   "attachments": {},
   "cell_type": "markdown",
   "metadata": {},
   "source": [
    "## Philosophy"
   ]
  },
  {
   "attachments": {},
   "cell_type": "markdown",
   "metadata": {},
   "source": [
    "A network models has two essential components: populations and projections. We first use NEST's CopyModel() mechanism to create specific models for all populations and subpopulations in the network, and then create the populations using the Topology modules CreateLayer() function.\n",
    "\n",
    "We use a two-stage process to create the connections, mainly because the same configurations are required for a number of projections: we first define dictionaries specifying the connections, then apply these dictionaries later."
   ]
  },
  {
   "attachments": {},
   "cell_type": "markdown",
   "metadata": {},
   "source": [
    "## Preparations"
   ]
  },
  {
   "cell_type": "code",
   "execution_count": 1,
   "metadata": {},
   "outputs": [],
   "source": [
    "SHOW_FIGURES = True\n",
    "\n",
    "import pylab\n",
    "\n",
    "if not SHOW_FIGURES:\n",
    "    pylab_show = pylab.show\n",
    "\n",
    "    def nop(s=None):\n",
    "        pass\n",
    "\n",
    "    pylab.show = nop\n",
    "else:\n",
    "    pylab.ion()"
   ]
  },
  {
   "cell_type": "code",
   "execution_count": 2,
   "metadata": {},
   "outputs": [
    {
     "name": "stderr",
     "output_type": "stream",
     "text": [
      "<frozen importlib._bootstrap>:241: RuntimeWarning: compiletime version 3.8 of module 'pynestkernel' does not match runtime version 3.1\n",
      "<frozen importlib._bootstrap>:241: RuntimeWarning: builtins.type size changed, may indicate binary incompatibility. Expected 880 from C header, got 888 from PyObject\n"
     ]
    },
    {
     "name": "stdout",
     "output_type": "stream",
     "text": [
      "\n",
      "              -- N E S T --\n",
      "  Copyright (C) 2004 The NEST Initiative\n",
      "\n",
      " Version: 3.3\n",
      " Built: May  5 2022 07:35:57\n",
      "\n",
      " This program is provided AS IS and comes with\n",
      " NO WARRANTY. See the file LICENSE for details.\n",
      "\n",
      " Problems or suggestions?\n",
      "   Visit https://www.nest-simulator.org\n",
      "\n",
      " Type 'nest.help()' to find out more about NEST.\n",
      "\n"
     ]
    }
   ],
   "source": [
    "import math\n",
    "import nest\n",
    "\n",
    "nest.ResetKernel()"
   ]
  },
  {
   "attachments": {},
   "cell_type": "markdown",
   "metadata": {},
   "source": [
    "## Configurable Parameters"
   ]
  },
  {
   "attachments": {},
   "cell_type": "markdown",
   "metadata": {},
   "source": [
    "The parameters represent\n",
    "* Network size in neurons N, each layer is N x N.\n",
    "* Network size in subtended visual angle visSize, in degree.\n",
    "* Temporal frequency of drifting grating input f_dg, in Hz.\n",
    "* Spatial wavelength and direction of drifting grating input, lambda_dg and phi_dg, in degree/radian.\n",
    "* Background firing rate of retinal nodes and modulation amplitude, retDC and retAC, in Hz.\n",
    "* Simulation duration simtime; actual simulation is split into intervals of sim_interval length, so that the network state can be visualized in those intervals. Times are in ms."
   ]
  },
  {
   "cell_type": "code",
   "execution_count": 3,
   "metadata": {},
   "outputs": [],
   "source": [
    "params = {\n",
    "    \"N\": 40,\n",
    "    \"visSize\": 8.0,\n",
    "    \"f_dg\": 2.0,\n",
    "    \"lambda_dg\": 2.0,\n",
    "    \"phi_dg\": 0.0,\n",
    "    \"retDC\": 30.0,\n",
    "    \"retAC\": 30.0,\n",
    "    \"simtime\": 100.0,\n",
    "    \"sim_interval\": 5.0,\n",
    "}"
   ]
  },
  {
   "attachments": {},
   "cell_type": "markdown",
   "metadata": {},
   "source": [
    "## Neuron Models"
   ]
  },
  {
   "attachments": {},
   "cell_type": "markdown",
   "metadata": {},
   "source": [
    "Some simplifications are done here w.r.t to the original paper. See the notebook source."
   ]
  },
  {
   "cell_type": "code",
   "execution_count": 4,
   "metadata": {},
   "outputs": [],
   "source": [
    "# BASE NERUON MODEL\n",
    "nest.CopyModel(\n",
    "    \"iaf_cond_alpha\",\n",
    "    \"NeuronModel\",\n",
    "    params={\n",
    "        \"C_m\": 16.0,\n",
    "        \"E_L\": (0.2 * 30.0 + 1.5 * -90.0) / (0.2 + 1.5),\n",
    "        \"g_L\": 0.2 + 1.5,\n",
    "        \"E_ex\": 0.0,\n",
    "        \"E_in\": -70.0,\n",
    "        \"V_reset\": -60.0,\n",
    "        \"V_th\": -51.0,\n",
    "        \"t_ref\": 2.0,\n",
    "        \"tau_syn_ex\": 1.0,\n",
    "        \"tau_syn_in\": 2.0,\n",
    "        \"I_e\": 0.0,\n",
    "        \"V_m\": -70.0,\n",
    "    },\n",
    ")\n",
    "\n",
    "# Cortical excitatory cells\n",
    "nest.CopyModel(\"NeuronModel\", \"CtxExNeuron\")\n",
    "\n",
    "# Cortical inhibitory cells\n",
    "nest.CopyModel(\n",
    "    \"NeuronModel\", \"CtxInNeuron\", params={\"C_m\": 8.0, \"V_th\": -53.0, \"t_ref\": 1.0}\n",
    ")\n",
    "\n",
    "# Thalamic cells\n",
    "nest.CopyModel(\n",
    "    \"NeuronModel\",\n",
    "    \"ThalamicNeuron\",\n",
    "    params={\"C_m\": 8.0, \"V_th\": -53.0, \"t_ref\": 1.0, \"E_in\": -80.0},\n",
    ")"
   ]
  },
  {
   "attachments": {},
   "cell_type": "markdown",
   "metadata": {},
   "source": [
    "## Input generating nodes"
   ]
  },
  {
   "attachments": {},
   "cell_type": "markdown",
   "metadata": {},
   "source": [
    "Input is generated by sinusoidally modulating Poisson generators, organized in a square layer of retina nodes. These nodes require a slightly more complicated initialization than all other elements of the network:\n",
    "\n",
    "* Average firing rate DC, firing rate modulation depth AC, and temporal modulation frequency Freq are the same for all retinal nodes and are set directly below.\n",
    "* The temporal phase Phi of each node depends on its position in the grating and can only be assigned after the retinal layer has been created. We therefore specify a function for initalizing the phase Phi. This function will be called for each node."
   ]
  },
  {
   "cell_type": "code",
   "execution_count": 5,
   "metadata": {},
   "outputs": [],
   "source": [
    "def phiInit(pos, lam, alpha):\n",
    "    \"\"\"Initializer function for phase of drifting grating nodes.\n",
    "\n",
    "    pos  : position (x,y) of node, in degree\n",
    "    lam  : wavelength of grating, in degree\n",
    "    alpha: angle of grating in radian, zero is horizontal\n",
    "\n",
    "    Returns number to be used as phase of AC Poisson generator.\n",
    "    \"\"\"\n",
    "    return 2.0 * math.pi / lam * (math.cos(alpha) * pos[0] + math.sin(alpha) * pos[1])\n",
    "\n",
    "\n",
    "nest.CopyModel(\n",
    "    \"sinusoidal_poisson_generator\",\n",
    "    \"RetinaNode\",\n",
    "    params={\n",
    "        \"ac\": params[\"retAC\"],\n",
    "        \"dc\": params[\"retDC\"],\n",
    "        \"freq\": params[\"f_dg\"],\n",
    "        \"phi\": 0.0,\n",
    "        \"individual_spike_trains\": False,\n",
    "    },\n",
    ")"
   ]
  },
  {
   "attachments": {},
   "cell_type": "markdown",
   "metadata": {},
   "source": [
    "## Recording nodes"
   ]
  },
  {
   "cell_type": "code",
   "execution_count": 6,
   "metadata": {},
   "outputs": [],
   "source": [
    "nest.CopyModel(\n",
    "    \"multimeter\",\n",
    "    \"RecordingNode262\",\n",
    "    {\n",
    "        \"interval\": params[\"sim_interval\"],\n",
    "        \"record_from\": [\"V_m\"],\n",
    "        \"record_to\": \"memory\",\n",
    "    },\n",
    ")"
   ]
  },
  {
   "attachments": {},
   "cell_type": "markdown",
   "metadata": {},
   "source": [
    "## Populations"
   ]
  },
  {
   "cell_type": "code",
   "execution_count": 8,
   "metadata": {},
   "outputs": [],
   "source": [
    "layerProps = {\n",
    "    \"rows\": params[\"N\"],\n",
    "    \"columns\": params[\"N\"],\n",
    "    \"extent\": [params[\"visSize\"], params[\"visSize\"]],\n",
    "    \"edge_wrap\": True,\n",
    "}\n",
    "# This dictionary does not yet specify the elements to put into the\n",
    "# layer, since they will differ from layer to layer. We will add them\n",
    "# below by updating the `'elements'` dictionary entry for each\n",
    "# population."
   ]
  },
  {
   "attachments": {},
   "cell_type": "markdown",
   "metadata": {},
   "source": [
    "**Retina**"
   ]
  },
  {
   "cell_type": "code",
   "execution_count": null,
   "metadata": {},
   "outputs": [],
   "source": [
    "layerProps.update({\"elements\": \"RetinaNode\"})\n",
    "retina = topo.CreateLayer(layerProps)\n",
    "\n",
    "# Now set phases of retinal oscillators; we use a list comprehension instead\n",
    "# of a loop.\n",
    "[\n",
    "    nest.SetStatus(\n",
    "        [n],\n",
    "        {\n",
    "            \"phi\": phiInit(\n",
    "                topo.GetPosition([n])[0], params[\"lambda_dg\"], params[\"phi_dg\"]\n",
    "            )\n",
    "        },\n",
    "    )\n",
    "    for n in nest.GetLeaves(retina)[0]\n",
    "]"
   ]
  },
  {
   "cell_type": "code",
   "execution_count": null,
   "metadata": {},
   "outputs": [],
   "source": [
    "nest.GetLeaves(retirna)"
   ]
  }
 ],
 "metadata": {
  "kernelspec": {
   "display_name": ".venv",
   "language": "python",
   "name": "python3"
  },
  "language_info": {
   "codemirror_mode": {
    "name": "ipython",
    "version": 3
   },
   "file_extension": ".py",
   "mimetype": "text/x-python",
   "name": "python",
   "nbconvert_exporter": "python",
   "pygments_lexer": "ipython3",
   "version": "3.10.9"
  },
  "orig_nbformat": 4
 },
 "nbformat": 4,
 "nbformat_minor": 2
}
