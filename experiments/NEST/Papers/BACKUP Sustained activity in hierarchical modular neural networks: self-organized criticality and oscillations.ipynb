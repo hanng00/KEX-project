{
 "cells": [
  {
   "attachments": {},
   "cell_type": "markdown",
   "metadata": {},
   "source": [
    "# Sustained activity in hierarchical modular neural networks: self-organized criticality and oscillations"
   ]
  },
  {
   "attachments": {},
   "cell_type": "markdown",
   "metadata": {},
   "source": [
    "**1. Neuron populations**\n",
    "\n",
    "The network consists of N leaky integrate-and-fire neurons, randomly connected with a connection probability of $P_0 = 0.01$"
   ]
  },
  {
   "attachments": {},
   "cell_type": "markdown",
   "metadata": {},
   "source": [
    "### 0. Plot configuration"
   ]
  },
  {
   "cell_type": "code",
   "execution_count": 1,
   "metadata": {},
   "outputs": [],
   "source": [
    "import matplotlib.pyplot as plt\n",
    "import matplotlib as mpl\n",
    "import scienceplots\n",
    "\n",
    "plt.style.use([\"science\"])"
   ]
  },
  {
   "attachments": {},
   "cell_type": "markdown",
   "metadata": {},
   "source": [
    "### 1. Initializing the network"
   ]
  },
  {
   "cell_type": "code",
   "execution_count": 4,
   "metadata": {},
   "outputs": [
    {
     "name": "stderr",
     "output_type": "stream",
     "text": [
      "<frozen importlib._bootstrap>:241: RuntimeWarning: compiletime version 3.8 of module 'pynestkernel' does not match runtime version 3.1\n",
      "<frozen importlib._bootstrap>:241: RuntimeWarning: builtins.type size changed, may indicate binary incompatibility. Expected 880 from C header, got 888 from PyObject\n"
     ]
    },
    {
     "name": "stdout",
     "output_type": "stream",
     "text": [
      "\n",
      "              -- N E S T --\n",
      "  Copyright (C) 2004 The NEST Initiative\n",
      "\n",
      " Version: 3.3\n",
      " Built: May  5 2022 07:35:57\n",
      "\n",
      " This program is provided AS IS and comes with\n",
      " NO WARRANTY. See the file LICENSE for details.\n",
      "\n",
      " Problems or suggestions?\n",
      "   Visit https://www.nest-simulator.org\n",
      "\n",
      " Type 'nest.help()' to find out more about NEST.\n",
      "\n"
     ]
    }
   ],
   "source": [
    "import nest\n",
    "import nest.raster_plot\n",
    "import pylab\n",
    "\n",
    "nest.ResetKernel()\n",
    "n = 4  # number of threads\n",
    "nest.SetKernelStatus({\"local_num_threads\": n})\n",
    "\n",
    "nest.SetKernelStatus({\"print_time\": True})"
   ]
  },
  {
   "attachments": {},
   "cell_type": "markdown",
   "metadata": {},
   "source": [
    "**Model parameters**"
   ]
  },
  {
   "cell_type": "code",
   "execution_count": null,
   "metadata": {},
   "outputs": [],
   "source": [
    "synapse_model = \"static_synapse\"\n",
    "neuron_model = \"iaf_cond_exp\"\n",
    "\n",
    "neuron_params = {\n",
    "    \"V_m\": -60.0,\n",
    "    \"E_L\": -60.0,\n",
    "    \"V_th\": -50.0,\n",
    "    \"V_reset\": -60.0,\n",
    "    \"t_ref\": 5.0,\n",
    "    \"E_ex\": 0.0,\n",
    "    \"E_in\": -80.0,\n",
    "    \"C_m\": 200.0,\n",
    "    \"g_L\": 10.0,\n",
    "    \"I_e\": 200.0,\n",
    "    \"tau_syn_ex\": 5.0,\n",
    "    \"tau_syn_in\": 10.0,\n",
    "}"
   ]
  },
  {
   "cell_type": "code",
   "execution_count": 20,
   "metadata": {},
   "outputs": [],
   "source": [
    "V_reset = -60  # Membrane resting potential in mV\n",
    "V_th = 20.0  # Spike threshold in mV\n",
    "tau_ref = 5  # Refractory period, in ms\n",
    "tau_m = 20.0  # Membrane time constant in ms\n",
    "\n",
    "\n",
    "E_ex = 0  # Excitatory reversal potential in mV\n",
    "E_inh = -80  # Inhibitory reversal potential in mV\n",
    "\n",
    "N = 10_000\n",
    "N_E = int(N * (4 / 5))  # Number of excitatory neurons\n",
    "N_I = int(N * (1 / 5))  # Number of excitatory neurons\n",
    "N_rec = N_E  # Number of neurons to record\n",
    "\n",
    "g_ex = 0  # Excitatory synaptic conductance in M Ohm^-1\n",
    "g_inh = 0  # Inhibitory synaptic conductance in M Ohm^-1\n",
    "g_L = 1  # Leak conductance\n",
    "\n",
    "tau_syn_ex = 5  # Rise time of the excitatory synaptic alpha function in ms\n",
    "tau_syn_inh = 10  # Rise time of the inhibitory synaptic alpha function ms\n",
    "\n",
    "\n",
    "P_0 = 0.01  # Connection probability"
   ]
  },
  {
   "attachments": {},
   "cell_type": "markdown",
   "metadata": {},
   "source": [
    "**Create Neurons**"
   ]
  },
  {
   "attachments": {},
   "cell_type": "markdown",
   "metadata": {},
   "source": [
    "```\n",
    "V_th mV = -55 mV         # Threshold potential\n",
    "V_reset mV = -60 mV      # Reset potential\n",
    "t_ref ms = 2 ms          # Refractory period\n",
    "g_L nS = 16.6667 nS      # Leak conductance\n",
    "C_m pF = 250 pF          # Membrane capacitance\n",
    "E_exc mV = 0 mV          # Excitatory reversal potential\n",
    "E_inh mV = -85 mV        # Inhibitory reversal potential\n",
    "E_L mV = -70 mV          # Leak reversal potential (aka resting potential)\n",
    "tau_syn_exc ms = 0.2 ms  # Synaptic time constant of excitatory synapse\n",
    "tau_syn_inh ms = 2 ms    # Synaptic time constant of inhibitory synapse\n",
    "```"
   ]
  },
  {
   "cell_type": "code",
   "execution_count": 16,
   "metadata": {},
   "outputs": [],
   "source": [
    "nest.SetDefaults(\n",
    "    \"iaf_cond_alpha\",\n",
    "    {\n",
    "        \"V_reset\": V_reset,\n",
    "        \"E_L\": V_reset,\n",
    "        \"V_th\": V_th,\n",
    "        \"C_m\": tau_m,\n",
    "        \"t_ref\": tau_ref,\n",
    "        \"E_ex\": E_ex,\n",
    "        \"E_in\": E_inh,\n",
    "        \"g_L\": g_L,\n",
    "        \"tau_syn_ex\": tau_syn_ex,\n",
    "        \"tau_syn_in\": tau_syn_inh,\n",
    "    },\n",
    ")"
   ]
  },
  {
   "cell_type": "code",
   "execution_count": 18,
   "metadata": {},
   "outputs": [],
   "source": [
    "nodes = nest.Create(\"iaf_cond_alpha\", N)\n",
    "nodes_E = nodes[:N_E]\n",
    "nodes_I = nodes[N_E:]\n",
    "\n",
    "noise = nest.Create(\"poisson_generator\", 1, {\"rate\": 20_000, \"start\": 0, \"stop\": 200})\n",
    "nest.SetDefaults(\"spike_recorder\", {\"to_file\": True})\n",
    "\n",
    "spikes = nest.Create(\n",
    "    \"spike_recorder\", 2, [{\"label\": \"brunel-py-ex\"}, {\"label\": \"brunel-py-in\"}]\n",
    ")\n",
    "\n",
    "spikes_E = spikes[:1]\n",
    "spikes_I = spikes[1:]"
   ]
  },
  {
   "cell_type": "code",
   "execution_count": null,
   "metadata": {},
   "outputs": [],
   "source": [
    "nest.CopyModel(\n",
    "    \"static_synapse_hom_w\",\n",
    "    \"excitatory\",\n",
    "    {\n",
    "        \"weight\": g_,\n",
    "        \"delay\": delay,\n",
    "    },\n",
    ")\n",
    "nest.Connect(\n",
    "    nodes_E,\n",
    "    nodes,\n",
    "    {\"rule\": \"fixed_indegree\", \"indegree\": C_E},\n",
    "    \"excitatory\",\n",
    ")\n",
    "nest.CopyModel(\n",
    "    \"static_synapse_hom_w\",\n",
    "    \"inhibitory\",\n",
    "    {\n",
    "        \"weight\": J_I,\n",
    "        \"delay\": delay,\n",
    "    },\n",
    ")\n",
    "nest.Connect(\n",
    "    nodes_I,\n",
    "    nodes,\n",
    "    {\"rule\": \"fixed_indegree\", \"indegree\": C_I},\n",
    "    \"inhibitory\",\n",
    ")"
   ]
  }
 ],
 "metadata": {
  "kernelspec": {
   "display_name": ".venv",
   "language": "python",
   "name": "python3"
  },
  "language_info": {
   "codemirror_mode": {
    "name": "ipython",
    "version": 3
   },
   "file_extension": ".py",
   "mimetype": "text/x-python",
   "name": "python",
   "nbconvert_exporter": "python",
   "pygments_lexer": "ipython3",
   "version": "3.10.9"
  },
  "orig_nbformat": 4
 },
 "nbformat": 4,
 "nbformat_minor": 2
}
