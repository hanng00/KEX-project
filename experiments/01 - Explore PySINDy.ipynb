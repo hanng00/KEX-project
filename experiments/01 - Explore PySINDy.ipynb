{
 "cells": [
  {
   "attachments": {},
   "cell_type": "markdown",
   "metadata": {},
   "source": [
    "# 01 - Explore PySINDy\n",
    "\n",
    "This Notebook aims at exploring [PySINDy](https://pysindy.readthedocs.io/en/latest/index.html) as a tool for working with fMRI data.\n",
    "\n",
    "Ideally, I'd like to understand the capabailities of PySINDy to ultimately be able to analyze fMRI data.\n",
    "\n",
    "- Can any significant differences be extracted out when comparing fMRI data recorded under different conscious states?\n",
    "- Does the resulting dynamics inhibit criticality?\n"
   ]
  }
 ],
 "metadata": {
  "language_info": {
   "name": "python"
  },
  "orig_nbformat": 4
 },
 "nbformat": 4,
 "nbformat_minor": 2
}
